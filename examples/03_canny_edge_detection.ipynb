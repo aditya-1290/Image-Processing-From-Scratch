{
 "cells": [
  {
   "cell_type": "markdown",
   "metadata": {},
   "source": [
    "# Canny Edge Detection\n",
    "\n",
    "This notebook demonstrates the Canny edge detection algorithm using the image processing library from scratch."
   ]
  },
  {
   "cell_type": "code",
   "execution_count": null,
   "metadata": {},
   "outputs": [],
   "source": [
    "import sys\n",
    "sys.path.append('../src')\n",
    "\n",
    "import numpy as np\n",
    "import matplotlib.pyplot as plt\n",
    "from core.image_io import load_image, display_image\n",
    "from core.color_conversion import rgb_to_grayscale\n",
    "from advanced.canny_edge_detector import canny_edge_detector"
   ]
  },
  {
   "cell_type": "code",
   "execution_count": null,
   "metadata": {},
   "outputs": [],
   "source": [
    "# Load and convert image to grayscale\n",
    "image_path = '../data/sample_image.jpg'  # Replace with your image path\n",
    "image = load_image(image_path)\n",
    "gray_image = rgb_to_grayscale(image)\n",
    "display_image(gray_image, 'Original Grayscale Image')"
   ]
  },
  {
   "cell_type": "code",
   "execution_count": null,
   "metadata": {},
   "outputs": [],
   "source": [
    "# Apply Canny edge detection\n",
    "low_threshold = 50\n",
    "high_threshold = 150\n",
    "sigma = 1.0\n",
    "\n",
    "canny_edges = canny_edge_detector(gray_image, low_threshold, high_threshold, sigma)\n",
    "display_image(canny_edges, 'Canny Edges')"
   ]
  },
  {
   "cell_type": "code",
   "execution_count": null,
   "metadata": {},
   "outputs": [],
   "source": [
    "# Experiment with different thresholds\n",
    "canny_edges_low = canny_edge_detector(gray_image, 30, 100, sigma)\n",
    "display_image(canny_edges_low, 'Canny Edges (Lower Thresholds)')\n",
    "\n",
    "canny_edges_high = canny_edge_detector(gray_image, 100, 200, sigma)\n",
    "display_image(canny_edges_high, 'Canny Edges (Higher Thresholds)')"
   ]
  }
 ],
 "metadata": {
  "kernelspec": {
   "display_name": "Python 3",
   "language": "python",
   "name": "python3"
  },
  "language_info": {
   "codemirror_mode": {
    "name": "ipython",
    "version": 3
   },
   "file_extension": ".py",
   "mimetype": "text/x-python",
   "name": "python",
   "nbconvert_exporter": "python",
   "pygments_lexer": "ipython3",
   "version": "3.8.5"
  }
 },
 "nbformat": 4,
 "nbformat_minor": 4
}
