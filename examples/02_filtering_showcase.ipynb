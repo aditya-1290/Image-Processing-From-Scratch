{
 "cells": [
  {
   "cell_type": "markdown",
   "metadata": {},
   "source": [
    "# Image Filtering Showcase\n",
    "\n",
    "This notebook demonstrates various image filtering operations using the image processing library from scratch."
   ]
  },
  {
   "cell_type": "code",
   "execution_count": null,
   "metadata": {},
   "outputs": [],
   "source": [
    "import sys\n",
    "sys.path.append('../src')\n",
    "\n",
    "import numpy as np\n",
    "import matplotlib.pyplot as plt\n",
    "from core.image_io import load_image, display_image\n",
    "from core.color_conversion import rgb_to_grayscale\n",
    "from filters.blurring import box_blur, gaussian_blur, median_blur\n",
    "from filters.edge_detection import sobel_filter, prewitt_filter, scharr_filter"
   ]
  },
  {
   "cell_type": "code",
   "execution_count": null,
   "metadata": {},
   "outputs": [],
   "source": [
    "# Load and convert image to grayscale\n",
    "image_path = '../data/sample_image.jpg'  # Replace with your image path\n",
    "image = load_image(image_path)\n",
    "gray_image = rgb_to_grayscale(image)\n",
    "display_image(gray_image, 'Original Grayscale Image')"
   ]
  },
  {
   "cell_type": "code",
   "execution_count": null,
   "metadata": {},
   "outputs": [],
   "source": [
    "# Box blur\n",
    "box_blurred = box_blur(gray_image, size=5)\n",
    "display_image(box_blurred, 'Box Blurred Image')"
   ]
  },
  {
   "cell_type": "code",
   "execution_count": null,
   "metadata": {},
   "outputs": [],
   "source": [
    "# Gaussian blur\n",
    "gaussian_blurred = gaussian_blur(gray_image, size=5, sigma=1.5)\n",
    "display_image(gaussian_blurred, 'Gaussian Blurred Image')"
   ]
  },
  {
   "cell_type": "code",
   "execution_count": null,
   "metadata": {},
   "outputs": [],
   "source": [
    "# Median blur\n",
    "median_blurred = median_blur(gray_image, size=5)\n",
    "display_image(median_blurred, 'Median Blurred Image')"
   ]
  },
  {
   "cell_type": "code",
   "execution_count": null,
   "metadata": {},
   "outputs": [],
   "source": [
    "# Sobel edge detection\n",
    "sobel_edges = sobel_filter(gray_image)\n",
    "display_image(sobel_edges, 'Sobel Edges')"
   ]
  },
  {
   "cell_type": "code",
   "execution_count": null,
   "metadata": {},
   "outputs": [],
   "source": [
    "# Prewitt edge detection\n",
    "prewitt_edges = prewitt_filter(gray_image)\n",
    "display_image(prewitt_edges, 'Prewitt Edges')"
   ]
  },
  {
   "cell_type": "code",
   "execution_count": null,
   "metadata": {},
   "outputs": [],
   "source": [
    "# Scharr edge detection\n",
    "scharr_edges = scharr_filter(gray_image)\n",
    "display_image(scharr_edges, 'Scharr Edges')"
   ]
  }
 ],
 "metadata": {
  "kernelspec": {
   "display_name": "Python 3",
   "language": "python",
   "name": "python3"
  },
  "language_info": {
   "codemirror_mode": {
    "name": "ipython",
    "version": 3
   },
   "file_extension": ".py",
   "mimetype": "text/x-python",
   "name": "python",
   "nbconvert_exporter": "python",
   "pygments_lexer": "ipython3",
   "version": "3.8.5"
  }
 },
 "nbformat": 4,
 "nbformat_minor": 4
}
