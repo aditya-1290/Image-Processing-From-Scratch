{
 "cells": [
  {
   "cell_type": "markdown",
   "metadata": {},
   "source": [
    "# Basic Image Manipulation\n",
    "\n",
    "This notebook demonstrates basic image manipulation operations using the image processing library from scratch."
   ]
  },
  {
   "cell_type": "code",
   "execution_count": null,
   "metadata": {},
   "outputs": [],
   "source": [
    "import sys\n",
    "sys.path.append('../src')\n",
    "\n",
    "import numpy as np\n",
    "import matplotlib.pyplot as plt\n",
    "from core.image_io import load_image, display_image\n",
    "from core.color_conversion import rgb_to_grayscale\n",
    "from core.point_operations import adjust_brightness, adjust_contrast, invert_image"
   ]
  },
  {
   "cell_type": "code",
   "execution_count": null,
   "metadata": {},
   "outputs": [],
   "source": [
    "# Load an image\n",
    "image_path = '../data/sample_image.jpg'  # Replace with your image path\n",
    "image = load_image(image_path)\n",
    "display_image(image, 'Original Image')"
   ]
  },
  {
   "cell_type": "code",
   "execution_count": null,
   "metadata": {},
   "outputs": [],
   "source": [
    "# Convert to grayscale\n",
    "gray_image = rgb_to_grayscale(image)\n",
    "display_image(gray_image, 'Grayscale Image')"
   ]
  },
  {
   "cell_type": "code",
   "execution_count": null,
   "metadata": {},
   "outputs": [],
   "source": [
    "# Adjust brightness\n",
    "bright_image = adjust_brightness(gray_image, 50)\n",
    "display_image(bright_image, 'Brightened Image')"
   ]
  },
  {
   "cell_type": "code",
   "execution_count": null,
   "metadata": {},
   "outputs": [],
   "source": [
    "# Adjust contrast\n",
    "contrast_image = adjust_contrast(gray_image, 1.5)\n",
    "display_image(contrast_image, 'High Contrast Image')"
   ]
  },
  {
   "cell_type": "code",
   "execution_count": null,
   "metadata": {},
   "outputs": [],
   "source": [
    "# Invert image\n",
    "inverted_image = invert_image(gray_image)\n",
    "display_image(inverted_image, 'Inverted Image')"
   ]
  }
 ],
 "metadata": {
  "kernelspec": {
   "display_name": "Python 3",
   "language": "python",
   "name": "python3"
  },
  "language_info": {
   "codemirror_mode": {
    "name": "ipython",
    "version": 3
   },
   "file_extension": ".py",
   "mimetype": "text/x-python",
   "name": "python",
   "nbconvert_exporter": "python",
   "pygments_lexer": "ipython3",
   "version": "3.8.5"
  }
 },
 "nbformat": 4,
 "nbformat_minor": 4
}
