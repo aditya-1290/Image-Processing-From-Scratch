{
 "cells": [
  {
   "cell_type": "markdown",
   "metadata": {},
   "source": [
    "# Harris Corner Detection\n",
    "\n",
    "This notebook demonstrates the Harris corner detection algorithm using the image processing library from scratch."
   ]
  },
  {
   "cell_type": "code",
   "execution_count": null,
   "metadata": {},
   "outputs": [],
   "source": [
    "import sys\n",
    "sys.path.append('../src')\n",
    "\n",
    "import numpy as np\n",
    "import matplotlib.pyplot as plt\n",
    "from core.image_io import load_image, display_image\n",
    "from core.color_conversion import rgb_to_grayscale\n",
    "from advanced.harris_corner_detector import harris_corner_detector, find_corner_points"
   ]
  },
  {
   "cell_type": "code",
   "execution_count": null,
   "metadata": {},
   "outputs": [],
   "source": [
    "# Load and convert image to grayscale\n",
    "image_path = '../data/sample_image.jpg'  # Replace with your image path\n",
    "image = load_image(image_path)\n",
    "gray_image = rgb_to_grayscale(image)\n",
    "display_image(gray_image, 'Original Grayscale Image')"
   ]
  },
  {
   "cell_type": "code",
   "execution_count": null,
   "metadata": {},
   "outputs": [],
   "source": [
    "# Apply Harris corner detection\n",
    "corner_response = harris_corner_detector(gray_image, k=0.04, threshold=0.01, window_size=3)\n",
    "display_image(corner_response, 'Corner Response Map')"
   ]
  },
  {
   "cell_type": "code",
   "execution_count": null,
   "metadata": {},
   "outputs": [],
   "source": [
    "# Find corner points\n",
    "corners = find_corner_points(corner_response, min_distance=10)\n",
    "print(f\"Number of corners detected: {len(corners)}\")\n",
    "print(f\"Corner coordinates: {corners}\")"
   ]
  },
  {
   "cell_type": "code",
   "execution_count": null,
   "metadata": {},
   "outputs": [],
   "source": [
    "# Visualize corners on the original image\n",
    "image_with_corners = image.copy()\n",
    "for corner in corners:\n",
    "    x, y = corner\n",
    "    image_with_corners[y-2:y+3, x-2:x+3] = [255, 0, 0]  # Mark corners in red\n",
    "\n",
    "display_image(image_with_corners, 'Image with Detected Corners')"
   ]
  }
 ],
 "metadata": {
  "kernelspec": {
   "display_name": "Python 3",
   "language": "python",
   "name": "python3"
  },
  "language_info": {
   "codemirror_mode": {
    "name": "ipython",
    "version": 3
   },
   "file_extension": ".py",
   "mimetype": "text/x-python",
   "name": "python",
   "nbconvert_exporter": "python",
   "pygments_lexer": "ipython3",
   "version": "3.8.5"
  }
 },
 "nbformat": 4,
 "nbformat_minor": 4
}
